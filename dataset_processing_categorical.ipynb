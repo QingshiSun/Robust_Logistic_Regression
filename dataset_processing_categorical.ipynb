{
 "cells": [
  {
   "cell_type": "code",
   "execution_count": 1,
   "id": "01b57547",
   "metadata": {},
   "outputs": [],
   "source": [
    "import pandas as pd\n",
    "import numpy as np"
   ]
  },
  {
   "cell_type": "code",
   "execution_count": 25,
   "id": "db34a13d",
   "metadata": {},
   "outputs": [],
   "source": [
    "data_name = \"credit\"\n",
    "input_name = \"./\" + data_name + \".csv\"\n",
    "key_name = data_name + \"-cooked-key.csv\"\n",
    "output_name = \"./\" + data_name + \"-cooked.csv\"\n"
   ]
  },
  {
   "cell_type": "code",
   "execution_count": null,
   "id": "29054c1d",
   "metadata": {},
   "outputs": [],
   "source": [
    "df = pd.read_csv(input_name, header = None)\n",
    "print(\"Dataset shape:\", df.shape)"
   ]
  },
  {
   "cell_type": "markdown",
   "id": "87108ace",
   "metadata": {},
   "source": [
    "##### Rename columns as 1,2, ..."
   ]
  },
  {
   "cell_type": "code",
   "execution_count": 5,
   "id": "90db2db4",
   "metadata": {},
   "outputs": [],
   "source": [
    "df.columns = np.arange(1,df.shape[1] + 1,1) #columns from 1 to 18"
   ]
  },
  {
   "cell_type": "markdown",
   "id": "f1843c58",
   "metadata": {},
   "source": [
    "##### if applicable, lowercase each value in each column to make sure different categories with same meaning in a column due to case sensitivity are consistent"
   ]
  },
  {
   "cell_type": "code",
   "execution_count": null,
   "id": "7de5913b",
   "metadata": {},
   "outputs": [],
   "source": [
    "string_columns = df.select_dtypes(include=['object']).columns\n",
    "df = df.applymap(lambda s: s.lower() if type(s) == str else s)\n"
   ]
  },
  {
   "cell_type": "markdown",
   "id": "640724f0",
   "metadata": {},
   "source": [
    "##### Check if the label has multi classes."
   ]
  },
  {
   "cell_type": "code",
   "execution_count": null,
   "id": "8f285376",
   "metadata": {},
   "outputs": [],
   "source": [
    "target_loc = df.shape[1]\n",
    "df[target_loc].value_counts(normalize = True)"
   ]
  },
  {
   "cell_type": "markdown",
   "id": "9ad91297",
   "metadata": {},
   "source": [
    "##### make the label binary by distinguishing majority class and others."
   ]
  },
  {
   "cell_type": "code",
   "execution_count": null,
   "id": "ec58675a",
   "metadata": {},
   "outputs": [],
   "source": [
    "majority_class = df[target_loc].value_counts(normalize = True).head(1).index[0]\n",
    "df[target_loc] = (df[target_loc] == majority_class).astype(int).astype(str)\n"
   ]
  },
  {
   "cell_type": "markdown",
   "id": "9f971ae8",
   "metadata": {},
   "source": [
    "##### check the number of unique values in each column."
   ]
  },
  {
   "cell_type": "code",
   "execution_count": 11,
   "id": "4cea5c24",
   "metadata": {},
   "outputs": [],
   "source": [
    "count_1 =0\n",
    "count_0 =0\n",
    "count_3 =0\n",
    "count_2 =0\n",
    "\n",
    "for index, i in enumerate(df.nunique(axis = 0)):\n",
    "    if i == 1:\n",
    "        count_1 += 1\n",
    "        print(index)\n",
    "    if i==0:\n",
    "        count_0 += 1\n",
    "    if i>=3:\n",
    "        count_3 += 1\n",
    "    if i == 2:\n",
    "        count_2 += 1\n",
    "\n"
   ]
  },
  {
   "cell_type": "markdown",
   "id": "659102b6",
   "metadata": {},
   "source": [
    "##### drop the columns with only one unique value"
   ]
  },
  {
   "cell_type": "code",
   "execution_count": null,
   "id": "49bdcd29",
   "metadata": {},
   "outputs": [],
   "source": [
    "unique_counts = df.nunique(axis=0)\n",
    "columns_to_drop = unique_counts[unique_counts == 1].index\n",
    "df_cleaned = df.drop(columns=columns_to_drop)"
   ]
  },
  {
   "cell_type": "markdown",
   "id": "e5293d4b",
   "metadata": {},
   "source": [
    "##### give the range of encoded categorical features for each orginal categorical feature"
   ]
  },
  {
   "cell_type": "code",
   "execution_count": null,
   "id": "3c9203bc",
   "metadata": {},
   "outputs": [],
   "source": [
    "running_count = 0\n",
    "groups_string = \"\"\n",
    "\n",
    "\n",
    "for i in df_cleaned.nunique(axis = 0):\n",
    "    if i >= 3:\n",
    "        groups_string = groups_string + str(running_count + 1) +\"-\"+str(running_count + i) +  \",\"\n",
    "        running_count = (running_count + i)\n",
    "    else:\n",
    "        groups_string = groups_string + str(running_count + 1)+\"-\"+str(running_count + 1) + \",\"\n",
    "        running_count = (running_count + 1)\n",
    "\n",
    "text_file = open(key_name, \"w\")\n",
    "n = text_file.write(groups_string[:-1])\n",
    "text_file.close()"
   ]
  },
  {
   "cell_type": "markdown",
   "id": "b8c85db9",
   "metadata": {},
   "source": [
    "##### apply one-hot encoding for categorical features"
   ]
  },
  {
   "cell_type": "code",
   "execution_count": null,
   "id": "7a63a18f",
   "metadata": {},
   "outputs": [],
   "source": [
    "\n",
    "df_cleaned.columns = np.arange(1, df_cleaned.shape[1]+ 1, 1)\n",
    "\n",
    "count_total = 0\n",
    "df_new = pd.DataFrame() #empty dataframe\n",
    "# for col in range(1,len(df.columns) + 1): #iterate over every column\n",
    "for col in df_cleaned.columns: #iterate over every column\n",
    "    if df_cleaned[col].nunique() >= 3: #if there are more than 2 unique values\n",
    "        df_new = pd.concat([df_new, pd.get_dummies(data = df_cleaned[col], dtype=int)], axis = 1) #standard one-hot encoding\n",
    "        count_total = count_total + pd.get_dummies(data = df_cleaned[col], drop_first = False, dtype=int).shape[1]\n",
    "    else: #means the original feature has 2 unique values, then we keep it as it is, but convert it to 0/1 structure\n",
    "        df_new = pd.concat([df_new, pd.get_dummies(data = df_cleaned[col], drop_first = True, dtype=int)], axis = 1)\n",
    "        count_total = count_total + pd.get_dummies(data = df_cleaned[col], drop_first = True, dtype=int).shape[1]\n",
    "\n"
   ]
  },
  {
   "cell_type": "markdown",
   "id": "340af5f1",
   "metadata": {},
   "source": [
    "##### Rename columns, make values integer, and replace 0s with -1s for the linear model."
   ]
  },
  {
   "cell_type": "code",
   "execution_count": 20,
   "id": "34af61dc",
   "metadata": {},
   "outputs": [],
   "source": [
    "df_new.columns = np.arange(1, df_new.shape[1]+ 1, 1)\n",
    "df_new.astype(\"int\")\n",
    "df_new= df_new.replace([0], -1)"
   ]
  },
  {
   "cell_type": "code",
   "execution_count": 25,
   "id": "3bb8588e",
   "metadata": {},
   "outputs": [],
   "source": [
    "df_new.to_csv(output_name, header=False, index = False)"
   ]
  }
 ],
 "metadata": {
  "kernelspec": {
   "display_name": "Python 3 (ipykernel)",
   "language": "python",
   "name": "python3"
  },
  "language_info": {
   "codemirror_mode": {
    "name": "ipython",
    "version": 3
   },
   "file_extension": ".py",
   "mimetype": "text/x-python",
   "name": "python",
   "nbconvert_exporter": "python",
   "pygments_lexer": "ipython3",
   "version": "3.11.7"
  }
 },
 "nbformat": 4,
 "nbformat_minor": 5
}
